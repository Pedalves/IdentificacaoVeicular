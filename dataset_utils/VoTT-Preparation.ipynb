{
 "cells": [
  {
   "cell_type": "code",
   "execution_count": 13,
   "metadata": {},
   "outputs": [],
   "source": [
    "import os"
   ]
  },
  {
   "cell_type": "code",
   "execution_count": 14,
   "metadata": {},
   "outputs": [],
   "source": [
    "name = 'CV001-05-14-19'\n",
    "path = '/home/pedalv/Documents/IV/' + name"
   ]
  },
  {
   "cell_type": "code",
   "execution_count": 15,
   "metadata": {},
   "outputs": [],
   "source": [
    "i = 0\n",
    "folder_dict = {}\n",
    "\n",
    "for file in os.listdir(path):\n",
    "    if file.endswith(\".jpg\"):\n",
    "        folder = int(i/25)\n",
    "        if folder in folder_dict.keys():\n",
    "            folder_dict[folder].append(file)\n",
    "        else:\n",
    "            folder_dict[folder] = [file]\n",
    "            \n",
    "            if not os.path.exists(os.path.join(path, str(folder)+'-'+name)):\n",
    "                os.mkdir(os.path.join(path, str(folder)+'-'+name))\n",
    "    i+=1"
   ]
  },
  {
   "cell_type": "code",
   "execution_count": 17,
   "metadata": {},
   "outputs": [],
   "source": [
    "for folder_id, files in folder_dict.items():\n",
    "    folder_path = os.path.join(path, str(folder_id)+'-'+name)\n",
    "    for file in files:\n",
    "        try:\n",
    "            os.rename(os.path.join(path, file), os.path.join(folder_path, file))\n",
    "        except:\n",
    "            continue"
   ]
  },
  {
   "cell_type": "code",
   "execution_count": null,
   "metadata": {},
   "outputs": [],
   "source": []
  }
 ],
 "metadata": {
  "kernelspec": {
   "display_name": "Python 3",
   "language": "python",
   "name": "python3"
  },
  "language_info": {
   "codemirror_mode": {
    "name": "ipython",
    "version": 3
   },
   "file_extension": ".py",
   "mimetype": "text/x-python",
   "name": "python",
   "nbconvert_exporter": "python",
   "pygments_lexer": "ipython3",
   "version": "3.6.4"
  }
 },
 "nbformat": 4,
 "nbformat_minor": 2
}
